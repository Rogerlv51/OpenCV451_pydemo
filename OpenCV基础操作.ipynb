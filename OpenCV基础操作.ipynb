{
 "cells": [
  {
   "cell_type": "code",
   "execution_count": 1,
   "metadata": {},
   "outputs": [],
   "source": [
    "import numpy as np\n",
    "import cv2 as cv"
   ]
  },
  {
   "cell_type": "code",
   "execution_count": 4,
   "metadata": {},
   "outputs": [],
   "source": [
    "# 创建图像，opencv-python中一切图像皆为numpy数组\n",
    "def numpy_demo():\n",
    "    \n",
    "    black = np.zeros((512,512,3), dtype=np.uint8)  # 创建纯黑图像\n",
    "    cv.imshow(\"black\", black)\n",
    "    black[:] = (255, 0, 0) # 用蓝色填充图像\n",
    "    cv.imshow(\"blue\", black)\n",
    "    cv.waitKey(0)\n",
    "    cv.destroyAllWindows()\n",
    "\n",
    "numpy_demo()"
   ]
  },
  {
   "cell_type": "code",
   "execution_count": 5,
   "metadata": {},
   "outputs": [],
   "source": [
    "## 像素读写操作\n",
    "def visit_pixel_demo():\n",
    "    img = cv.imread(\"./Images/jisoo1.jpg\")\n",
    "    cv.imshow(\"jisoo\", img)\n",
    "    h, w, c = img.shape\n",
    "    for row in range(h):\n",
    "        for col in range(w):\n",
    "            b, g, r= img[row, col]\n",
    "            img[row, col] = (255 - b, 255 - g, 255 - r)\n",
    "    cv.imshow(\"visited\", img)\n",
    "    cv.waitKey(0)\n",
    "    cv.destroyAllWindows()\n",
    "\n",
    "visit_pixel_demo()"
   ]
  },
  {
   "cell_type": "code",
   "execution_count": null,
   "metadata": {},
   "outputs": [],
   "source": []
  }
 ],
 "metadata": {
  "kernelspec": {
   "display_name": "Python 3.9.13 ('pytorch_basic')",
   "language": "python",
   "name": "python3"
  },
  "language_info": {
   "codemirror_mode": {
    "name": "ipython",
    "version": 3
   },
   "file_extension": ".py",
   "mimetype": "text/x-python",
   "name": "python",
   "nbconvert_exporter": "python",
   "pygments_lexer": "ipython3",
   "version": "3.9.13"
  },
  "orig_nbformat": 4,
  "vscode": {
   "interpreter": {
    "hash": "5d7f9c8d1ba637fbaa165b7e1b068b277a24bdbbae2fecef2adf18f32dc564ea"
   }
  }
 },
 "nbformat": 4,
 "nbformat_minor": 2
}
